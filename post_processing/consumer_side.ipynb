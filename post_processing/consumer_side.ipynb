{
 "cells": [
  {
   "cell_type": "code",
   "execution_count": 15,
   "metadata": {},
   "outputs": [],
   "source": [
    "import pandas as pd\n",
    "import scipy.stats as stats"
   ]
  },
  {
   "cell_type": "code",
   "execution_count": 68,
   "metadata": {},
   "outputs": [
    {
     "name": "stderr",
     "output_type": "stream",
     "text": [
      "/var/folders/1t/44v3s5n97h1drxtq1zb_gdlm0000gq/T/ipykernel_21840/1331591690.py:1: ParserWarning: Falling back to the 'python' engine because the 'c' engine does not support regex separators (separators > 1 char and different from '\\s+' are interpreted as regex); you can avoid this warning by specifying engine='python'.\n",
      "  users = pd.read_csv(\"data/datasets/users.dat\", delimiter= \"::\", names = [\"id\", \"gender\", \"age group\", \"occupation\", \"zip\"])\n"
     ]
    }
   ],
   "source": [
    "users = pd.read_csv(\"data/datasets/users.dat\", delimiter= \"::\", names = [\"id\", \"gender\", \"age group\", \"occupation\", \"zip\"])"
   ]
  },
  {
   "cell_type": "code",
   "execution_count": 55,
   "metadata": {},
   "outputs": [
    {
     "data": {
      "text/html": [
       "<div>\n",
       "<style scoped>\n",
       "    .dataframe tbody tr th:only-of-type {\n",
       "        vertical-align: middle;\n",
       "    }\n",
       "\n",
       "    .dataframe tbody tr th {\n",
       "        vertical-align: top;\n",
       "    }\n",
       "\n",
       "    .dataframe thead th {\n",
       "        text-align: right;\n",
       "    }\n",
       "</style>\n",
       "<table border=\"1\" class=\"dataframe\">\n",
       "  <thead>\n",
       "    <tr style=\"text-align: right;\">\n",
       "      <th></th>\n",
       "      <th>user</th>\n",
       "      <th>mean_ndcg</th>\n",
       "      <th>rbo</th>\n",
       "    </tr>\n",
       "  </thead>\n",
       "  <tbody>\n",
       "    <tr>\n",
       "      <th>0</th>\n",
       "      <td>1</td>\n",
       "      <td>0.000000</td>\n",
       "      <td>1.000000</td>\n",
       "    </tr>\n",
       "    <tr>\n",
       "      <th>1</th>\n",
       "      <td>2</td>\n",
       "      <td>0.000000</td>\n",
       "      <td>0.087222</td>\n",
       "    </tr>\n",
       "    <tr>\n",
       "      <th>2</th>\n",
       "      <td>3</td>\n",
       "      <td>0.000000</td>\n",
       "      <td>1.000000</td>\n",
       "    </tr>\n",
       "    <tr>\n",
       "      <th>3</th>\n",
       "      <td>4</td>\n",
       "      <td>0.110046</td>\n",
       "      <td>1.000000</td>\n",
       "    </tr>\n",
       "    <tr>\n",
       "      <th>4</th>\n",
       "      <td>5</td>\n",
       "      <td>0.233651</td>\n",
       "      <td>0.421746</td>\n",
       "    </tr>\n",
       "    <tr>\n",
       "      <th>...</th>\n",
       "      <td>...</td>\n",
       "      <td>...</td>\n",
       "      <td>...</td>\n",
       "    </tr>\n",
       "    <tr>\n",
       "      <th>6033</th>\n",
       "      <td>6036</td>\n",
       "      <td>0.236807</td>\n",
       "      <td>1.000000</td>\n",
       "    </tr>\n",
       "    <tr>\n",
       "      <th>6034</th>\n",
       "      <td>6037</td>\n",
       "      <td>0.138862</td>\n",
       "      <td>1.000000</td>\n",
       "    </tr>\n",
       "    <tr>\n",
       "      <th>6035</th>\n",
       "      <td>6038</td>\n",
       "      <td>0.000000</td>\n",
       "      <td>1.000000</td>\n",
       "    </tr>\n",
       "    <tr>\n",
       "      <th>6036</th>\n",
       "      <td>6039</td>\n",
       "      <td>0.066254</td>\n",
       "      <td>1.000000</td>\n",
       "    </tr>\n",
       "    <tr>\n",
       "      <th>6037</th>\n",
       "      <td>6040</td>\n",
       "      <td>0.073364</td>\n",
       "      <td>1.000000</td>\n",
       "    </tr>\n",
       "  </tbody>\n",
       "</table>\n",
       "<p>6038 rows × 3 columns</p>\n",
       "</div>"
      ],
      "text/plain": [
       "      user  mean_ndcg       rbo\n",
       "0        1   0.000000  1.000000\n",
       "1        2   0.000000  0.087222\n",
       "2        3   0.000000  1.000000\n",
       "3        4   0.110046  1.000000\n",
       "4        5   0.233651  0.421746\n",
       "...    ...        ...       ...\n",
       "6033  6036   0.236807  1.000000\n",
       "6034  6037   0.138862  1.000000\n",
       "6035  6038   0.000000  1.000000\n",
       "6036  6039   0.066254  1.000000\n",
       "6037  6040   0.073364  1.000000\n",
       "\n",
       "[6038 rows x 3 columns]"
      ]
     },
     "execution_count": 55,
     "metadata": {},
     "output_type": "execute_result"
    }
   ],
   "source": [
    "results = pd.read_csv(\"data/part_10/2movie_group_RuleBorda_product_lottery.csv\")"
   ]
  },
  {
   "cell_type": "code",
   "execution_count": 56,
   "metadata": {},
   "outputs": [],
   "source": [
    "merged = results.merge(users, left_on=\"user\", right_on=\"id\")"
   ]
  },
  {
   "cell_type": "code",
   "execution_count": 65,
   "metadata": {},
   "outputs": [
    {
     "data": {
      "text/html": [
       "<div>\n",
       "<style scoped>\n",
       "    .dataframe tbody tr th:only-of-type {\n",
       "        vertical-align: middle;\n",
       "    }\n",
       "\n",
       "    .dataframe tbody tr th {\n",
       "        vertical-align: top;\n",
       "    }\n",
       "\n",
       "    .dataframe thead th {\n",
       "        text-align: right;\n",
       "    }\n",
       "</style>\n",
       "<table border=\"1\" class=\"dataframe\">\n",
       "  <thead>\n",
       "    <tr style=\"text-align: right;\">\n",
       "      <th></th>\n",
       "      <th>rbo</th>\n",
       "      <th>mean_ndcg</th>\n",
       "    </tr>\n",
       "    <tr>\n",
       "      <th>age group</th>\n",
       "      <th></th>\n",
       "      <th></th>\n",
       "    </tr>\n",
       "  </thead>\n",
       "  <tbody>\n",
       "    <tr>\n",
       "      <th>1</th>\n",
       "      <td>0.885417</td>\n",
       "      <td>0.147630</td>\n",
       "    </tr>\n",
       "    <tr>\n",
       "      <th>18</th>\n",
       "      <td>0.862135</td>\n",
       "      <td>0.160268</td>\n",
       "    </tr>\n",
       "    <tr>\n",
       "      <th>25</th>\n",
       "      <td>0.864261</td>\n",
       "      <td>0.183962</td>\n",
       "    </tr>\n",
       "    <tr>\n",
       "      <th>35</th>\n",
       "      <td>0.875351</td>\n",
       "      <td>0.153232</td>\n",
       "    </tr>\n",
       "    <tr>\n",
       "      <th>45</th>\n",
       "      <td>0.883531</td>\n",
       "      <td>0.129827</td>\n",
       "    </tr>\n",
       "    <tr>\n",
       "      <th>50</th>\n",
       "      <td>0.875345</td>\n",
       "      <td>0.127151</td>\n",
       "    </tr>\n",
       "    <tr>\n",
       "      <th>56</th>\n",
       "      <td>0.863400</td>\n",
       "      <td>0.089557</td>\n",
       "    </tr>\n",
       "  </tbody>\n",
       "</table>\n",
       "</div>"
      ],
      "text/plain": [
       "                rbo  mean_ndcg\n",
       "age group                     \n",
       "1          0.885417   0.147630\n",
       "18         0.862135   0.160268\n",
       "25         0.864261   0.183962\n",
       "35         0.875351   0.153232\n",
       "45         0.883531   0.129827\n",
       "50         0.875345   0.127151\n",
       "56         0.863400   0.089557"
      ]
     },
     "execution_count": 65,
     "metadata": {},
     "output_type": "execute_result"
    }
   ],
   "source": [
    "merged.groupby('age group')[[\"rbo\", \"mean_ndcg\"]].mean()"
   ]
  },
  {
   "cell_type": "code",
   "execution_count": 66,
   "metadata": {},
   "outputs": [
    {
     "data": {
      "text/html": [
       "<div>\n",
       "<style scoped>\n",
       "    .dataframe tbody tr th:only-of-type {\n",
       "        vertical-align: middle;\n",
       "    }\n",
       "\n",
       "    .dataframe tbody tr th {\n",
       "        vertical-align: top;\n",
       "    }\n",
       "\n",
       "    .dataframe thead th {\n",
       "        text-align: right;\n",
       "    }\n",
       "</style>\n",
       "<table border=\"1\" class=\"dataframe\">\n",
       "  <thead>\n",
       "    <tr style=\"text-align: right;\">\n",
       "      <th></th>\n",
       "      <th>rbo</th>\n",
       "      <th>mean_ndcg</th>\n",
       "    </tr>\n",
       "    <tr>\n",
       "      <th>gender</th>\n",
       "      <th></th>\n",
       "      <th></th>\n",
       "    </tr>\n",
       "  </thead>\n",
       "  <tbody>\n",
       "    <tr>\n",
       "      <th>F</th>\n",
       "      <td>0.867973</td>\n",
       "      <td>0.122292</td>\n",
       "    </tr>\n",
       "    <tr>\n",
       "      <th>M</th>\n",
       "      <td>0.870035</td>\n",
       "      <td>0.170294</td>\n",
       "    </tr>\n",
       "  </tbody>\n",
       "</table>\n",
       "</div>"
      ],
      "text/plain": [
       "             rbo  mean_ndcg\n",
       "gender                     \n",
       "F       0.867973   0.122292\n",
       "M       0.870035   0.170294"
      ]
     },
     "execution_count": 66,
     "metadata": {},
     "output_type": "execute_result"
    }
   ],
   "source": [
    "merged.groupby('gender')[[\"rbo\", \"mean_ndcg\"]].mean()"
   ]
  },
  {
   "cell_type": "code",
   "execution_count": 67,
   "metadata": {},
   "outputs": [
    {
     "name": "stdout",
     "output_type": "stream",
     "text": [
      "Kruskal-Wallis nDCG by age group: H-stat=115.64931181068334, p-value=1.334397764606847e-22\n",
      "Kruskal-Wallis RBO by age group: H-stat=4.211390646978533, p-value=0.6480937332783216\n"
     ]
    }
   ],
   "source": [
    "location = merged.groupby(\"age group\")[\"mean_ndcg\"].apply(list)\n",
    "h_stat, p_value = stats.kruskal(*location)\n",
    "print(f\"Kruskal-Wallis nDCG by age group: H-stat={h_stat}, p-value={p_value}\")\n",
    "\n",
    "location = merged.groupby(\"age group\")[\"rbo\"].apply(list)\n",
    "h_stat, p_value = stats.kruskal(*location)\n",
    "print(f\"Kruskal-Wallis RBO by age group: H-stat={h_stat}, p-value={p_value}\")"
   ]
  },
  {
   "cell_type": "code",
   "execution_count": 64,
   "metadata": {},
   "outputs": [
    {
     "name": "stdout",
     "output_type": "stream",
     "text": [
      "Mann-Whitney U mean_nDCG by gender: U-stat=4216805.5, p-value=3.2935008417178016e-18\n",
      "Mann-Whitney U RBO by gender: U-stat=3717301.5, p-value=0.6743591204043404\n"
     ]
    }
   ],
   "source": [
    "male_ndcg = merged[merged[\"gender\"] == \"M\"][\"mean_ndcg\"]\n",
    "female_ndcg = merged[merged[\"gender\"] == \"F\"][\"mean_ndcg\"]\n",
    "\n",
    "u_stat, p_value = stats.mannwhitneyu(male_ndcg, female_ndcg, alternative=\"two-sided\")\n",
    "\n",
    "print(f\"Mann-Whitney U mean_nDCG by gender: U-stat={u_stat}, p-value={p_value}\")\n",
    "\n",
    "male_rbo = merged[merged[\"gender\"] == \"M\"][\"rbo\"]\n",
    "female_rbo = merged[merged[\"gender\"] == \"F\"][\"rbo\"]\n",
    "\n",
    "u_stat_rbo, p_value_rbo = stats.mannwhitneyu(male_rbo, female_rbo, alternative=\"two-sided\")\n",
    "\n",
    "print(f\"Mann-Whitney U RBO by gender: U-stat={u_stat_rbo}, p-value={p_value_rbo}\")"
   ]
  },
  {
   "cell_type": "code",
   "execution_count": 47,
   "metadata": {},
   "outputs": [
    {
     "data": {
      "text/html": [
       "<div>\n",
       "<style scoped>\n",
       "    .dataframe tbody tr th:only-of-type {\n",
       "        vertical-align: middle;\n",
       "    }\n",
       "\n",
       "    .dataframe tbody tr th {\n",
       "        vertical-align: top;\n",
       "    }\n",
       "\n",
       "    .dataframe thead th {\n",
       "        text-align: right;\n",
       "    }\n",
       "</style>\n",
       "<table border=\"1\" class=\"dataframe\">\n",
       "  <thead>\n",
       "    <tr style=\"text-align: right;\">\n",
       "      <th></th>\n",
       "      <th>rbo</th>\n",
       "      <th>mean_ndcg</th>\n",
       "    </tr>\n",
       "    <tr>\n",
       "      <th>continent</th>\n",
       "      <th></th>\n",
       "      <th></th>\n",
       "    </tr>\n",
       "  </thead>\n",
       "  <tbody>\n",
       "    <tr>\n",
       "      <th>Africa</th>\n",
       "      <td>0.672908</td>\n",
       "      <td>0.108471</td>\n",
       "    </tr>\n",
       "    <tr>\n",
       "      <th>Antarctica</th>\n",
       "      <td>0.845639</td>\n",
       "      <td>0.063527</td>\n",
       "    </tr>\n",
       "    <tr>\n",
       "      <th>Asia</th>\n",
       "      <td>0.550561</td>\n",
       "      <td>0.071167</td>\n",
       "    </tr>\n",
       "    <tr>\n",
       "      <th>Europe</th>\n",
       "      <td>0.576496</td>\n",
       "      <td>0.084457</td>\n",
       "    </tr>\n",
       "    <tr>\n",
       "      <th>North America</th>\n",
       "      <td>0.675562</td>\n",
       "      <td>0.096065</td>\n",
       "    </tr>\n",
       "    <tr>\n",
       "      <th>Oceania</th>\n",
       "      <td>0.599738</td>\n",
       "      <td>0.096359</td>\n",
       "    </tr>\n",
       "    <tr>\n",
       "      <th>South America</th>\n",
       "      <td>0.511540</td>\n",
       "      <td>0.091221</td>\n",
       "    </tr>\n",
       "  </tbody>\n",
       "</table>\n",
       "</div>"
      ],
      "text/plain": [
       "                    rbo  mean_ndcg\n",
       "continent                         \n",
       "Africa         0.672908   0.108471\n",
       "Antarctica     0.845639   0.063527\n",
       "Asia           0.550561   0.071167\n",
       "Europe         0.576496   0.084457\n",
       "North America  0.675562   0.096065\n",
       "Oceania        0.599738   0.096359\n",
       "South America  0.511540   0.091221"
      ]
     },
     "execution_count": 47,
     "metadata": {},
     "output_type": "execute_result"
    }
   ],
   "source": [
    "users_a = pd.read_csv(\"data/datasets/users_info.csv\")\n",
    "users_a\n",
    "results_a = pd.read_csv(\"data/ambar_part3/4ambar_all_RuleCopeland_product_lottery.csv\")\n",
    "results_a\n",
    "merged_a = results_a.merge(users_a, left_on=\"user\", right_on=\"user_id\")\n",
    "# male_ndcg = merged[merged[\"gender\"] == \"M\"][\"mean_ndcg\"]\n",
    "# female_ndcg = merged[merged[\"gender\"] == \"F\"][\"mean_ndcg\"]\n",
    "# male_rbo = merged[merged[\"gender\"] == \"M\"][\"rbo\"]\n",
    "# female_rbo = merged[merged[\"gender\"] == \"F\"][\"rbo\"]\n",
    "# male_rbo.hist()\n",
    "# female_rbo.hist()\n",
    "# merged['rbo'].hist()\n",
    "# merged['mean_ndcg'].hist()\n",
    "merged_a.groupby('continent')[[\"rbo\", \"mean_ndcg\"]].mean()"
   ]
  },
  {
   "cell_type": "code",
   "execution_count": 53,
   "metadata": {},
   "outputs": [
    {
     "name": "stdout",
     "output_type": "stream",
     "text": [
      "Kruskal-Wallis nDCG bey continent: H-stat=21.85233320833909, p-value=0.001287776786146412\n",
      "Kruskal-Wallis RBO by continent: H-stat=108.48365877578773, p-value=4.2337109916172636e-21\n"
     ]
    }
   ],
   "source": [
    "location = merged_a.groupby(\"continent\")[\"mean_ndcg\"].apply(list)\n",
    "h_stat, p_value = stats.kruskal(*location)\n",
    "print(f\"Kruskal-Wallis nDCG bey continent: H-stat={h_stat}, p-value={p_value}\")\n",
    "\n",
    "location = merged_a.groupby(\"continent\")[\"rbo\"].apply(list)\n",
    "h_stat, p_value = stats.kruskal(*location)\n",
    "print(f\"Kruskal-Wallis RBO by continent: H-stat={h_stat}, p-value={p_value}\")"
   ]
  },
  {
   "cell_type": "code",
   "execution_count": 52,
   "metadata": {},
   "outputs": [
    {
     "name": "stdout",
     "output_type": "stream",
     "text": [
      "Mann-Whitney U mean_nDCG by gender: U-stat=4203614.5, p-value=0.9320048277388495\n",
      "Mann-Whitney U RBO by gender: U-stat=4203682.0, p-value=0.9348409453923963\n"
     ]
    }
   ],
   "source": [
    "male_ndcg = merged_a[merged_a[\"gender\"] == \"M\"][\"mean_ndcg\"]\n",
    "female_ndcg = merged_a[merged_a[\"gender\"] == \"F\"][\"mean_ndcg\"]\n",
    "\n",
    "u_stat, p_value = stats.mannwhitneyu(male_ndcg, female_ndcg, alternative=\"two-sided\")\n",
    "\n",
    "print(f\"Mann-Whitney U mean_nDCG by gender: U-stat={u_stat}, p-value={p_value}\")\n",
    "\n",
    "male_rbo = merged_a[merged_a[\"gender\"] == \"M\"][\"rbo\"]\n",
    "female_rbo = merged_a[merged_a[\"gender\"] == \"F\"][\"rbo\"]\n",
    "\n",
    "u_stat_rbo, p_value_rbo = stats.mannwhitneyu(male_rbo, female_rbo, alternative=\"two-sided\")\n",
    "\n",
    "print(f\"Mann-Whitney U RBO by gender: U-stat={u_stat_rbo}, p-value={p_value_rbo}\")"
   ]
  },
  {
   "cell_type": "code",
   "execution_count": null,
   "metadata": {},
   "outputs": [],
   "source": []
  }
 ],
 "metadata": {
  "kernelspec": {
   "display_name": "Python 3",
   "language": "python",
   "name": "python3"
  },
  "language_info": {
   "codemirror_mode": {
    "name": "ipython",
    "version": 3
   },
   "file_extension": ".py",
   "mimetype": "text/x-python",
   "name": "python",
   "nbconvert_exporter": "python",
   "pygments_lexer": "ipython3",
   "version": "3.11.5"
  }
 },
 "nbformat": 4,
 "nbformat_minor": 2
}
